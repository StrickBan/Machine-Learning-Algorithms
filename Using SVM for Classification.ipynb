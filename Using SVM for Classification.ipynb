{
 "cells": [
  {
   "cell_type": "markdown",
   "metadata": {},
   "source": [
    "# Using Support Vector Machine (SVM) with RBF Kernel for Classification on Breast Cancer and Wine Datasets"
   ]
  },
  {
   "cell_type": "markdown",
   "metadata": {},
   "source": [
    "I will be using SVM on classification problems: Breast Cancer and Wine datasets. First I will solve them \"by hand\" (not using SVM's implementations on any library). Later, I will solve the problems using the Scikit library and compare the results obtained from my \"by hand\" solution with the results obtained from the solution using the Scikit library"
   ]
  },
  {
   "cell_type": "markdown",
   "metadata": {},
   "source": [
    "# By Hand"
   ]
  },
  {
   "cell_type": "markdown",
   "metadata": {},
   "source": [
    "### Defining functions to be used"
   ]
  },
  {
   "cell_type": "code",
   "execution_count": 2,
   "metadata": {},
   "outputs": [],
   "source": [
    "import numpy as np\n",
    "import csv\n",
    "from numpy import genfromtxt\n",
    "from sklearn.model_selection import train_test_split \n",
    "from sklearn import preprocessing\n",
    "from numpy import linalg\n",
    "from sklearn.datasets import load_breast_cancer \n",
    "\n",
    "# Rbf Kernel\n",
    "def rbf(xi,xj):\n",
    "    return np.exp(-1/(2*(np.power(sigma,2))) * linalg.norm(xi - xj) ** 2)\n",
    "\n",
    "# Linear kernel\n",
    "def K(xi, xj):\n",
    "    return np.dot(xi,xj)\n",
    "\n",
    "# Kernel SVM\n",
    "def kernel_svm(X, y): \n",
    "\n",
    "    from cvxopt import matrix, solvers\n",
    "    solvers.options['show_progress'] = False\n",
    "\n",
    "    N = X.shape[0]\n",
    "    \n",
    "    #P/Q\n",
    "    P = np.zeros(shape=(N, N))\n",
    "    \n",
    "    for i in range(0, N) :\n",
    "        for j in range(0, N) :\n",
    "            P[i][j] =  y[i] * y[j] * rbf(X[i],X[j])    \n",
    "    \n",
    "    P = matrix(P)\n",
    "        \n",
    "    #q/-1\n",
    "    q = np.ones(N) * -1\n",
    "    q = matrix(q)\n",
    "    \n",
    "    #G/1\n",
    "    G = np.identity(N) * -1\n",
    "    G = matrix(G)\n",
    "    \n",
    "    #h/0\n",
    "    h = np.zeros(N)\n",
    "    h = matrix(h)\n",
    "    \n",
    "    #A/yt\n",
    "    A = np.reshape((y.T), (1,N)) \n",
    "    A = A.astype('float')\n",
    "    A = matrix(A)\n",
    "    \n",
    "    \n",
    "    #b/0\n",
    "    b = matrix(np.zeros(1))\n",
    "\n",
    "    sol = solvers.qp(P,q,G,h,A,b)\n",
    "    \n",
    "    alphas = sol[\"x\"] \n",
    "\n",
    "   ## \n",
    "    return alphas\n",
    "\n",
    "# Dual function\n",
    "def f_dual(x):\n",
    "     \n",
    "    N = len(alphas)\n",
    "    f = 0\n",
    "    for i in range(N):\n",
    "        if alphas[i] > 1/1000:\n",
    "            f += alphas[i] * y_train[i] * rbf(X_train[i],x)\n",
    "    f+= w0\n",
    "    \n",
    "    if f < 0:\n",
    "        return -1\n",
    "    else:\n",
    "        return 1\n",
    "\n",
    "# Classification function\n",
    "def compute_classification_boundary (X, y, alpha):\n",
    "    ## Write your code here\n",
    "    N = X.shape[0]\n",
    "    \n",
    "    w0 = 0\n",
    "    w1 = 0\n",
    "    w2 = 0\n",
    "    \n",
    "    for i in range(N):\n",
    "        w1 += alpha[i] * y[i] * X[i][0]\n",
    "        w2 += alpha[i] * y[i] * X[i][1]\n",
    "        \n",
    "    w = np.array([w1, w2])\n",
    "    \n",
    "    support_vectors = []\n",
    "    \n",
    "    for i in range (N) :\n",
    "        if (alpha[i] > 1/1000) : \n",
    "            support_vectors.append(i)\n",
    "    \n",
    "    w0 = support_vectors[0]\n",
    "    yj = y[w0]; xj = X[w0]\n",
    "    \n",
    "    suma = 0.0\n",
    "    for i in range (N) :\n",
    "        suma = suma + alpha[i] * y[i] * rbf(X[i], xj)\n",
    "    w0 = yj - suma\n",
    "   \n",
    "    ##\n",
    "    return w, w0\n",
    "\n",
    "# Function to calculate accuracy   \n",
    "def get_score(X_test, y_test):\n",
    "\n",
    "    N = len(X_test)\n",
    "    count = 0\n",
    "    for i in range (N):\n",
    "        #print(f_dual(X_test[i]), y_test[i])\n",
    "        if f_dual(X_test[i]) == y_test[i]:\n",
    "            \n",
    "            count+=1\n",
    "    score = count/N\n",
    "    \n",
    "    return score"
   ]
  },
  {
   "cell_type": "markdown",
   "metadata": {},
   "source": [
    "### Breast Cancer Dataset"
   ]
  },
  {
   "cell_type": "code",
   "execution_count": 3,
   "metadata": {},
   "outputs": [
    {
     "name": "stdout",
     "output_type": "stream",
     "text": [
      "Accuracy: 95.8041958041958\n"
     ]
    }
   ],
   "source": [
    "# Loading the dataset\n",
    "cancer = load_breast_cancer()\n",
    "y = cancer.target\n",
    "X = cancer.data\n",
    "y = np.where(y<1,-1,1)\n",
    "\n",
    "# Splitting data\n",
    "X_train, X_test, y_train, y_test = train_test_split(X, y,random_state=42)\n",
    "\n",
    "# Scaling Data\n",
    "scaler = preprocessing.StandardScaler().fit(X_train)\n",
    "X_train = scaler.transform(X_train)\n",
    "X_test = scaler.transform(X_test)\n",
    "\n",
    "# Setting value of hyperparameter sigmma\n",
    "sigma = 2\n",
    "\n",
    "# Fitting svm dual classifier\n",
    "alphas = kernel_svm(X_train, y_train)\n",
    " \n",
    "# Getting weights\n",
    "w, w0 = compute_classification_boundary(X_train, y_train, alphas)\n",
    "\n",
    "# Predicting on test data\n",
    "score = get_score(X_test, y_test)\n",
    "print(\"Accuracy:\", score * 100)"
   ]
  },
  {
   "cell_type": "markdown",
   "metadata": {},
   "source": [
    "### Wine Dataset"
   ]
  },
  {
   "cell_type": "code",
   "execution_count": 4,
   "metadata": {},
   "outputs": [
    {
     "name": "stdout",
     "output_type": "stream",
     "text": [
      "Accuracy: 100.0\n"
     ]
    }
   ],
   "source": [
    "# Importing data\n",
    "data = genfromtxt('datasets/wine.csv', delimiter=',') # reading in the data matrix\n",
    "\n",
    "# data preprocessing (Only using 2 classes of wine)\n",
    "n =  data.shape[0]\n",
    "feat = data.shape[1]\n",
    "data = data[data[:,0]<3]\n",
    "X = data[0:n,1:feat]\n",
    "y = data[0:n,0]\n",
    "y = np.where(y<2,-1,1)\n",
    "\n",
    "# Splitting data\n",
    "X_train, X_test, y_train, y_test = train_test_split(X, y,random_state=1)\n",
    "\n",
    "# Scaling Data\n",
    "scaler = preprocessing.StandardScaler().fit(X_train)\n",
    "X_train = scaler.transform(X_train)\n",
    "X_test = scaler.transform(X_test)\n",
    "\n",
    "# Setting value of sigma\n",
    "sigma = 2  \n",
    "\n",
    "# Fitting svm dual classifier\n",
    "alphas = kernel_svm(X_train, y_train)\n",
    "\n",
    "# Getting weights\n",
    "w, w0 = compute_classification_boundary(X_train, y_train, alphas)\n",
    "\n",
    "# Predicting on test data\n",
    "score = get_score(X_test, y_test)\n",
    "print(\"Accuracy:\", score *100)"
   ]
  },
  {
   "cell_type": "markdown",
   "metadata": {},
   "source": [
    "# Scikit Implementation"
   ]
  },
  {
   "cell_type": "markdown",
   "metadata": {},
   "source": [
    "### Breast Cancer Dataset"
   ]
  },
  {
   "cell_type": "code",
   "execution_count": 5,
   "metadata": {},
   "outputs": [
    {
     "name": "stdout",
     "output_type": "stream",
     "text": [
      "Accuracy: 97.2027972027972\n"
     ]
    }
   ],
   "source": [
    "from sklearn import svm\n",
    "from sklearn.svm import SVC\n",
    "import numpy as np\n",
    "from sklearn.model_selection import train_test_split \n",
    "from sklearn import preprocessing\n",
    "from sklearn.datasets import load_breast_cancer \n",
    "\n",
    "# Loading the dataset\n",
    "cancer = load_breast_cancer()\n",
    "y = cancer.target\n",
    "X = cancer.data\n",
    "y = np.where(y<1,-1,1)\n",
    "\n",
    "# train_test_split to split the data \n",
    "X_train, X_test, y_train, y_test = train_test_split(X, y,random_state=42)\n",
    "\n",
    "# Splitting data\n",
    "X_train, X_test, y_train, y_test = train_test_split(X, y,random_state=42)\n",
    "\n",
    "# Scaling Data\n",
    "scaler = preprocessing.StandardScaler().fit(X_train)\n",
    "X_train = scaler.transform(X_train)\n",
    "X_test = scaler.transform(X_test)\n",
    "\n",
    "# Using SVM with rbf kernel\n",
    "clf = SVC(gamma='auto')\n",
    "clf.fit(X_train, y_train)\n",
    "\n",
    "# Predicting on test data\n",
    "predictions = clf.predict(X_test)\n",
    "score = clf.score(X_test, y_test)\n",
    "print(\"Accuracy:\", score*100)"
   ]
  },
  {
   "cell_type": "markdown",
   "metadata": {},
   "source": [
    "### Wine Dataset"
   ]
  },
  {
   "cell_type": "code",
   "execution_count": 7,
   "metadata": {},
   "outputs": [
    {
     "name": "stdout",
     "output_type": "stream",
     "text": [
      "Accuracy: 100.0\n"
     ]
    }
   ],
   "source": [
    "# Importing data\n",
    "from numpy import genfromtxt\n",
    "data = genfromtxt('datasets/wine.csv', delimiter=',') # reading in the data matrix\n",
    "\n",
    "# data preprocessing (Only using 2 classes of wine)\n",
    "n =  data.shape[0]\n",
    "feat = data.shape[1]\n",
    "data = data[data[:,0]<3]\n",
    "X = data[0:n,1:feat]\n",
    "y = data[0:n,0]\n",
    "y = np.where(y<2,0,1)\n",
    "\n",
    "# Splitting data\n",
    "X_train, X_test, y_train, y_test = train_test_split(X, y, random_state=1)\n",
    "\n",
    "# Scaling Data\n",
    "scaler = preprocessing.StandardScaler().fit(X_train)\n",
    "X_train = scaler.transform(X_train)\n",
    "X_test = scaler.transform(X_test)\n",
    "\n",
    "# Using SVM with rbf kernel\n",
    "clf = SVC()\n",
    "clf.fit(X_train, y_train)\n",
    "\n",
    "# Predicting on test data\n",
    "predictions = clf.predict(X_test)\n",
    "score = clf.score(X_test, y_test)\n",
    "print(\"Accuracy:\", score*100)"
   ]
  },
  {
   "cell_type": "markdown",
   "metadata": {},
   "source": [
    "### Results"
   ]
  },
  {
   "cell_type": "markdown",
   "metadata": {},
   "source": [
    "The results obtained were the same for the Wine dataset (100% accuracy). However, the Scikit implementation performed better than the \"by hand\" implementation for the Breast Cancer dataset (97.2% vs 95.8% accuracy)"
   ]
  }
 ],
 "metadata": {
  "kernelspec": {
   "display_name": "Python 3",
   "language": "python",
   "name": "python3"
  },
  "language_info": {
   "codemirror_mode": {
    "name": "ipython",
    "version": 3
   },
   "file_extension": ".py",
   "mimetype": "text/x-python",
   "name": "python",
   "nbconvert_exporter": "python",
   "pygments_lexer": "ipython3",
   "version": "3.7.4"
  }
 },
 "nbformat": 4,
 "nbformat_minor": 2
}
